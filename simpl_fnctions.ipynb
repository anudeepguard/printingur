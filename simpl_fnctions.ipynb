{
  "nbformat": 4,
  "nbformat_minor": 0,
  "metadata": {
    "colab": {
      "provenance": []
    },
    "kernelspec": {
      "name": "python3",
      "display_name": "Python 3"
    },
    "language_info": {
      "name": "python"
    }
  },
  "cells": [
    {
      "cell_type": "code",
      "execution_count": 1,
      "metadata": {
        "colab": {
          "base_uri": "https://localhost:8080/"
        },
        "id": "l6tCIEpQdkLb",
        "outputId": "670608e8-58a2-4314-d759-e7b6d635d495"
      },
      "outputs": [
        {
          "output_type": "stream",
          "name": "stdout",
          "text": [
            "hi\n"
          ]
        }
      ],
      "source": [
        "print(\"hi\")"
      ]
    },
    {
      "cell_type": "code",
      "source": [
        "import keyword\n",
        "print(\"keywords are:::::::::::: \")\n",
        "b=keyword.kwlist\n",
        "# print(keyword.kwlist)\n",
        "print(b)\n",
        "print(\"enter keyword ur desired\")\n",
        "r=input()\n",
        "if r in b:\n",
        "    print(\"u r right\")\n",
        "else:\n",
        "    print(\"u r wrong\")"
      ],
      "metadata": {
        "colab": {
          "base_uri": "https://localhost:8080/"
        },
        "id": "WmxNlbA0dqRo",
        "outputId": "6d35e783-ef5c-48f0-d8ce-6e25b5fb9037"
      },
      "execution_count": 3,
      "outputs": [
        {
          "output_type": "stream",
          "name": "stdout",
          "text": [
            "keywords are \n",
            "['False', 'None', 'True', 'and', 'as', 'assert', 'async', 'await', 'break', 'class', 'continue', 'def', 'del', 'elif', 'else', 'except', 'finally', 'for', 'from', 'global', 'if', 'import', 'in', 'is', 'lambda', 'nonlocal', 'not', 'or', 'pass', 'raise', 'return', 'try', 'while', 'with', 'yield']\n",
            "enter keyword ur desired\n",
            "class\n",
            "u r right\n"
          ]
        }
      ]
    },
    {
      "cell_type": "code",
      "source": [
        "print(\"enter ur name\")\n",
        "print(\"ur not a\",input())\n"
      ],
      "metadata": {
        "colab": {
          "base_uri": "https://localhost:8080/"
        },
        "id": "BN5pG5nwdwpm",
        "outputId": "f9295f05-e5bf-46af-c698-83b4893560a1"
      },
      "execution_count": 8,
      "outputs": [
        {
          "output_type": "stream",
          "name": "stdout",
          "text": [
            "enter ur name\n",
            "samantha\n",
            "ur not a samantha\n"
          ]
        }
      ]
    },
    {
      "cell_type": "code",
      "source": [],
      "metadata": {
        "id": "dBF7q9Ncfhdo"
      },
      "execution_count": null,
      "outputs": []
    }
  ]
}